{
 "cells": [
  {
   "cell_type": "markdown",
   "metadata": {},
   "source": [
    "# Notebook 3: Linear Regression (Diabetes)"
   ]
  },
  {
   "cell_type": "markdown",
   "metadata": {},
   "source": [
    "## Learning Goal  \n",
    "The goal of this notebook is to get hands-on experience and intuition about linear regression and regularization. We once again emphasize the difference between fitting and predicting. We will see that it is much more difficult to get good out-of-sample performance on a test set (predicting) than it is to get good in-sample performance on the training set (fitting).\n",
    "\n",
    "## Overview:\n",
    "\n",
    "In Notebook 1: __Section II: Machine Learning is difficult__, we explored linear regression in the context of a prediction problem. In this notebook, we'll formally introduce the notion of regression and see how learning and prediction can be improved by introducing regularization. We will focus mainly on simple applications of linear regression: minimizing the mean-square-error (MSE) on the training data (i.e. in-sample error) and see how well we perform on the test data (i.e. out-of-sample error). \n",
    "\n",
    "\n",
    "As we discussed in Sec. II of the review, there is a fundamental difference between minimizing the in-sample error and minimizing the out-of-sample error. The underlying reason for this is that the training data may not be representative of the full data distribution. From a Bayesian point of view, as [David MacKay](http://www.inference.org.uk/mackay/) likes to repeat: <i>We can't make predictions without making assumptions.</i> Thus, it is sensible to introduce priors that reflect the fact that we are likely to be undersampled (especially in high dimensions).\n",
    "\n",
    "We'll consider ordinary least squares regression problem in which the \"error function\" is defined as the square from the deviation of our linear predictor to the true response. We will supplement this error function with a regularizer that prevents overfitting. From a Bayesian point of view, the regularization can be thought of as a prior on parameters, see Sec VI.\n",
    "Minimizing the combined in-sample error + regularization terms is the same as the <b> Maximum a posteriori probability (MAP)</b> estimate in Bayesian regression (the parameters at which the posterior probability distribution is peaked). Note that in a true Bayesian approach, we should not use the mode of the posterior but the average over all possible choices of parameters weighted by their posterior probability. In practice, this is  often not done (for computational and practical reasons).\n",
    "\n",
    "\n",
    "\n",
    "## Least squares linear regression: \n",
    "\n",
    "Consider data of the form $(y_i,\\mathbf{x}^{(i)})$ where the index $i=1\\ldots n$ runs over the number of examples in the training data and $\\mathbf{x}^{(i)}$ is a $p$-dimensional feature (row) vector. For notational convenience, it is useful to define the $n \\times p$ <b>design matrix</b> $X$ whose rows, $\\textbf{x}^{(1)},\\cdots, \\textbf{x}^{(n)}$, are the examples and columns, $\\mathbf{X}_{:,1},\\cdots, \\mathbf{X}_{:,p}$,  are the measured \"features\" (i.e. feature predictors). We also denote the $n$-dimensional column vector of sample $i$ as $\\mathbf{y}_i$ and the $p$-dimensional column vector of regression parameters $\\mathbf{w}\\in\\mathbb{R}^p$.\n",
    "\n",
    "For ordinary least square regression (no regularization), we minimize the square loss cost function:\n",
    "\n",
    "$$\n",
    "\\underset{\\textbf{w}\\in\\mathbb{R}^p}{\\operatorname{min}} ||\\textbf{Xw}-\\textbf{y}||_2^2 = \\underset{\\textbf{w}\\in\\mathbb{R}^p}{\\operatorname{min}} \\,(\\mathbf{Xw}-\\mathbf{y})^T(\\mathbf{Xw}-\\mathbf{y}),\n",
    "$$\n",
    "\n",
    "or equivalently, in component form,\n",
    "$$\n",
    "\\underset{\\textbf{w}\\in\\mathbb{R}^p}{\\operatorname{min}}   \\sum_{i=1}^n (y_i -\\mathbf{w}\\cdot\\mathbf{x}^{(i)})^2.\n",
    "$$\n",
    "\n",
    "If rank$(\\mathbf{X})=p$, namely, the feature predictors $\\mathbf{X}_{:,1},\\cdots \\mathbf{X}_{:,p}$ are linearly independent, then there exists unique solution to this problem:\n",
    "\n",
    "$$\n",
    "\\hat{\\textbf{w}}= (\\mathbf{X}^T\\mathbf{X})^{-1}\\mathbf{X}^T \\textbf{y}\n",
    "$$"
   ]
  },
  {
   "cell_type": "markdown",
   "metadata": {},
   "source": [
    "### Exercise 1 ANSWERS: ###  \n",
    "<ul>\n",
    "\n",
    "\n",
    "<li> The choice of parameters corresponds to the maximum likelihood estimate of the Gaussian likelihood function, where the error terms $\\epsilon_i$ are assumed to be normally distributed with mean 0 and variance $\\sigma^2$.\n",
    "<li> To derive $\\hat{\\textbf{w}}$ explicitly by solving the least square problem, we can set the derivative of the cost function $\\frac{1}{2n} \\sum_{i=1}^{n}(\\textbf{w}^T\\textbf{x}^{(i)} - y_i)^2$ with respect to $\\textbf{w}$ to 0 and solve for $\\textbf{w}$. This leads to the normal equations $\\mathbf{X}^T(\\mathbf{X}\\textbf{w} - \\textbf{y}) = 0$, which can be re-arranged as $\\mathbf{w} = (\\mathbf{X}^T\\mathbf{X})^{-1}\\mathbf{X}^T\\textbf{y}$. This is the closed-form solution for $\\hat{\\textbf{w}}$.\n",
    "<li> $\\hat{\\textbf{w}}$ is an unbiased estimator, as it converges to the true parameters $\\textbf{w}_{true}$ as the number of data points goes to infinity. This is due to the Gaussian distribution of the error terms and the law of large numbers.\n",
    "<li> $\\hat{\\textbf{w}}$ is not well-defined when rank$(\\mathbf{X}) < p$, as this implies that the design matrix $\\mathbf{X}$ is rank-deficient, and the inverse $(\\mathbf{X}^T\\mathbf{X})^{-1}$ does not exist. In this case, the least squares problem is underdetermined and has infinitely many solutions.\n",
    "<li> When the samples are generated as $y_i = \\textbf{w}_{true} \\cdot \\textbf{x}^{(i)} + \\epsilon_i$, the in-sample risk can be shown to be\n",
    "$$\n",
    "R(\\hat{\\textbf{w}}, \\textbf{w}_{true}) = \\frac{1}{n}\\mathbb{E}[(\\mathbf{X}\\hat{\\textbf{w}} - \\mathbf{X}{\\textbf{w}_{true}})^2] = \\sigma^2 \\frac{p}{n}.\n",
    "$$\n",
    "This means that the risk decreases as the number of data points increases, and converges to 0 as $n \\rightarrow \\infty$ for fixed $p$. When $p,n$ scale together, the risk approaches a constant value equal to $\\sigma^2$.\n",
    "\n",
    "</ul>\n"
   ]
  },
  {
   "cell_type": "markdown",
   "metadata": {},
   "source": [
    "### Exercise 1: ###  \n",
    "<ul>\n",
    "\n",
    "\n",
    "<li> This choice of parameters correspond the maximum likehood estimate of which Likelihood function? \n",
    "\n",
    "<li> Derive $\\hat{\\textbf{w}}$ explicitly by solving the least square problem defined above.\n",
    "\n",
    "\n",
    "<li> Is $\\hat{\\textbf{w}}$ a biased or an unbiased estimator? In other words, does it give the correct answer as the number of data points goes to infinity ($n \\rightarrow \\infty$). To answer this question, you may assume i.i.d. (independent, identically distributed) samples $(y_i,\\textbf{x}^{(i)})$.\n",
    "\n",
    "<li> Is $\\hat{\\textbf{w}}$ still well-defined when rank$(\\mathbf{X})<p$? This happens when, for example, $n<p$. \n",
    "\n",
    "<li> Now imagine the samples are generated in the following manner: $y_i=\\textbf{w}_\\text{true}\\cdot \\textbf{x}^{(i)}+\\epsilon_i$ where $\\epsilon_i\\sim\\mathcal{N}(0,\\sigma^2)$ are i.i.d. Gaussian errors. In statistics, the in-sample risk is defined as\n",
    "$$\n",
    "R(\\hat{\\textbf{w}}, \\textbf{w}_\\text{true})=\\frac{1}{n}\\mathbb{E}[(\\mathbf{X}\\hat{\\textbf{w}}-\\mathbf{X}{\\textbf{w}_\\text{true}})^2],\n",
    "$$\n",
    "where $\\mathbb{E}[\\cdots]$ is taken over all i.i.d pairs $(y_i,\\textbf{x}^{(i)})$ and $\\hat{\\textbf{w}}$ is the least squares solution given above. Assuming that $\\mathbf{X}$ and $\\epsilon_i$ are independent, show that the risk is given by\n",
    "\n",
    "$$\n",
    "R(\\hat{\\textbf{w}}, \\textbf{w}_\\text{true}) = \\sigma^2\\frac{p}{n}\n",
    "$$\n",
    "What's the implication of this for fixed $p$ as $n \\rightarrow \\infty$? How about when $p,n$ scale together?\n",
    "\n",
    "</ul>\n"
   ]
  },
  {
   "cell_type": "markdown",
   "metadata": {},
   "source": [
    "\n",
    "\n",
    "From Exercise 1, it is clear that the uniqueness of the solution is only guaranteed when rank$(\\mathbf{X})>p$. But even so we still may not want to use least squares if $p$ is moderately close to $n$, because its \"risk\" could be quite poor. One way to deal with this is to  <i> regularize</i>.\n",
    "\n",
    "We will be concerned with two classes of regularizers: <b> L2-regularization</b> which is often called <b> Ridge-Regression</b> (or <b>Tikhonov regression</b>) and <b> L1-regularization</b> which goes under the name <b>LASSO</b> (and is closely related to <b>Compressed Sensing</b>).\n",
    "\n",
    "\n",
    "## Ridge Regression\n",
    "In Ridge-Regression, the regularization penalty is taken to be the L2-norm of the parameters\n",
    "$$\n",
    "E_{ridge}= \\lambda ||\\textbf{w}||_2^2 = \\lambda \\textbf{w}^T \\textbf{w}=\\lambda \\sum_{\\gamma=1}^p w_\\gamma w_\\gamma.\n",
    "$$\n",
    "\n",
    "Thus, the model is fit by minimizing the sum of the in-sample error and the regularization term\n",
    "$$\n",
    "\\mathbf{w}_{ridge}(\\lambda)= \\underset{\\textbf{w}\\in\\mathbb{R}^p}{\\operatorname{argmin}} ||\\mathbf{X}\\textbf{w}-\\textbf{y}||_2^2 + \\lambda ||\\textbf{w}||_2^2.\n",
    "$$\n",
    "Notice that the parameter $\\lambda$ controls how much we weight the fit and regularization term."
   ]
  },
  {
   "cell_type": "markdown",
   "metadata": {},
   "source": [
    "### Exercise 2: ###  \n",
    "<ul>\n",
    "<li>What choice of prior does this correspond to if we are performing a MAP estimate?\n",
    "<li>Show that the solution to Ridge regression is given by $\\mathbf{w}_{ridge}= (\\mathbf{X}^T\\mathbf{X}+\\lambda I)^{-1}\\mathbf{X}^T \\textbf{y}$. \n",
    "<li>Express your answer in terms of the Singular Value Decomposition of $\\mathbf{X}$.\n",
    "</ul>"
   ]
  },
  {
   "cell_type": "markdown",
   "metadata": {},
   "source": [
    "### Exercise 2 ANSWERS: ###  \n",
    "<ul>\n",
    "<li> If we are performing a MAP estimate, this choice of regularization corresponds to a prior distribution over the parameters $\\mathbf{w}$ with covariance $\\lambda I$. This prior says that we believe that the parameters are close to 0, with the degree of belief controlled by the parameter $\\lambda$.\n",
    "\n",
    "<li> The solution to Ridge Regression is given by $\\mathbf{w}_{ridge}= (\\mathbf{X}^T\\mathbf{X}+\\lambda I)^{-1}\\mathbf{X}^T \\textbf{y}$. To see this, we can write down the objective of Ridge Regression as:\n",
    "\n",
    "$$ \\mathbf{w}_{ridge} = \\arg\\min{\\mathbf{w}} ||\\mathbf{Xw}-\\mathbf{y}||_2^2 + \\lambda ||\\mathbf{w}||_2^2 $$\n",
    "\n",
    "Taking the gradient with respect to $\\mathbf{w}$ and setting it to 0, we get:\n",
    "\n",
    "$$ \\mathbf{X}^T(\\mathbf{Xw}-\\mathbf{y}) + \\lambda \\mathbf{w} = 0 $$\n",
    "\n",
    "Rearranging, we get:\n",
    "\n",
    "$$ \\mathbf{w}_{ridge} = (\\mathbf{X}^T\\mathbf{X}+\\lambda I)^{-1}\\mathbf{X}^T \\textbf{y} $$\n",
    "\n",
    "<li> To express the solution in terms of the Singular Value Decomposition (SVD) of $\\mathbf{X}$, we can write:\n",
    "$$ \\mathbf{X} = \\mathbf{U} \\mathbf{\\Sigma} \\mathbf{V}^T $$\n",
    "\n",
    "where $\\mathbf{U}$ and $\\mathbf{V}$ are orthogonal matrices, and $\\mathbf{\\Sigma}$ is a diagonal matrix with the singular values of $\\mathbf{X}$ on the diagonal. Then, we have:\n",
    "\n",
    "$$ \\mathbf{w}_{ridge} = (\\mathbf{X}^T\\mathbf{X}+\\lambda I)^{-1}\\mathbf{X}^T \\textbf{y} = \\mathbf{V}(\\mathbf{\\Sigma}^2 + \\lambda I)^{-1}\\mathbf{\\Sigma} \\mathbf{U}^T \\textbf{y} $$\n",
    "\n",
    "So, the solution to Ridge Regression can be expressed in terms of the SVD of $\\mathbf{X}$, the response variable $\\textbf{y}$, and the regularization parameter $\\lambda$.\n",
    "</ul>"
   ]
  },
  {
   "cell_type": "markdown",
   "metadata": {},
   "source": [
    "## LASSO ##\n",
    "\n",
    "We will also be interested in the case where the penalty is the L1-norm of the parameters (sum of absolute values of parameters). This is called LASSO.\n",
    "$$\n",
    "E_{LASSO}= \\lambda ||\\mathbf{w}||_1 = \\lambda \\sum_{\\gamma=1}^p |w_\\gamma| .\n",
    "$$\n",
    "In this case, \n",
    "$$\n",
    "\\textbf{w}_{LASSO}(\\lambda)= \\underset{\\textbf{w}\\in\\mathbb{R}^p}{\\operatorname{argmin}} {1 \\over 2n} ||\\mathbf{Xw}-\\mathbf{y}||_2^2 + \\lambda ||\\mathbf{w}||_1.\n",
    "$$\n",
    "Note the prefactor $1/(2n)$ in the loss function is not essential to this formulation. We have chosen this form to be consistent with the Scikit-Learn package in Python. As we discussed in the main text, LASSO tends to give sparse solution. In the following we're going to explore these ideas a little bit more.\n"
   ]
  },
  {
   "cell_type": "markdown",
   "metadata": {},
   "source": [
    "### Exercise 3: ###  \n",
    "<ul>\n",
    "<li>What choice of prior does this correspond to if we are performing a MAP estimate?\n",
    "<li>In this case, can you derive an analytic expression for $\\mathbf{w}_{LASSO}$? Do you have any ideas about how we might be able to efficiently numerically calculate this? \n",
    "<li> Do you think LASSO and Ridge Regression will give qualitatively different answers? (Consider the limits $\\lambda=0$ and $\\lambda = \\infty$)\n",
    "</ul>"
   ]
  },
  {
   "cell_type": "markdown",
   "metadata": {},
   "source": [
    "## Numerical Experiments with Ridge Regression and LASSO ##\n",
    "\n",
    "We will now perform some numerical experiments with the Diabetes Dataset trying to predict diabetes outcomes one year forward. More information about this data set can be found at <a href=\"https://archive.ics.uci.edu/ml/datasets/Diabetes\">https://archive.ics.uci.edu/ml/datasets/Diabetes</a>. This dataset was described in the famous <a href=\"http://web.stanford.edu/~hastie/Papers/LARS/LeastAngle_2002.pdf\">Least Angle Regression</a> paper by Efron, Hastie, Johnstone, Tibshirani as follows:\n",
    "<blockquote>Ten baseline variables, age, sex, body mass index, average blood pressure, and six blood serum measurements were obtained for each of $n = 442$ diabetes patients, as well as the\n",
    "response of interest, a quantitative measure of disease progression one year after baseline.</blockquote>\n",
    "\n",
    "\n",
    "We start by plotting the weights for each value of $\\lambda$ for Ridge Regression and LASSO. This is called a regularization path. We also compare the in-sample and out-of-sample performance between two regressions by examining the $R^2$ coefficient of determination (for detailed definition see <a href=\"https://en.wikipedia.org/wiki/Coefficient_of_determination\">here</a>). In terms of linear regression, $R^2$ tells us how well the regression function fits the data. The best attainable fit corresponds to $R^2=1$.\n"
   ]
  },
  {
   "cell_type": "code",
   "execution_count": 4,
   "metadata": {},
   "outputs": [
    {
     "name": "stdout",
     "output_type": "stream",
     "text": [
      "Automatically created module for IPython interactive environment\n"
     ]
    },
    {
     "data": {
      "image/png": "[encoded data removed]",
      "text/plain": [
       "<Figure size 432x288 with 2 Axes>"
      ]
     },
     "metadata": {
      "needs_background": "light"
     },
     "output_type": "display_data"
    },
    {
     "data": {
      "image/png": "[encoded data removed]",
      "text/plain": [
       "<Figure size 432x288 with 1 Axes>"
      ]
     },
     "metadata": {
      "needs_background": "light"
     },
     "output_type": "display_data"
    }
   ],
   "source": [
    "from __future__ import print_function\n",
    "print(__doc__)\n",
    "\n",
    "%matplotlib inline\n",
    "\n",
    "# This code is modified from plot_cv_diabetes.py in the skit-learn documentation\n",
    "# and plot_ridge_path.py\n",
    "\n",
    "\n",
    "import numpy as np\n",
    "import matplotlib.pyplot as plt\n",
    "#import seaborn\n",
    "\n",
    "from sklearn import datasets, linear_model\n",
    "\n",
    "# Load Training Data set with 200 examples\n",
    "\n",
    "number_examples=200\n",
    "diabetes = datasets.load_diabetes()\n",
    "X = diabetes.data[:number_examples]\n",
    "y = diabetes.target[:number_examples]\n",
    "\n",
    "# Set up Lasso and Ridge Regression models\n",
    "ridge=linear_model.Ridge()\n",
    "lasso = linear_model.Lasso()\n",
    "\n",
    "\n",
    "# Chooose paths\n",
    "alphas = np.logspace(-2, 2, 10)\n",
    "\n",
    "# To see how well we learn, we partition the dataset into a training set with 150 \n",
    "# as well as a test set with 50 examples. We record their errors respectively.\n",
    "\n",
    "n_samples = 150\n",
    "n_samples_train = 100\n",
    "X_train, X_test = X[:n_samples_train], X[n_samples_train:]\n",
    "y_train, y_test = y[:n_samples_train], y[n_samples_train:]\n",
    "train_errors_ridge = list()\n",
    "test_errors_ridge = list()\n",
    "\n",
    "train_errors_lasso = list()\n",
    "test_errors_lasso = list()\n",
    "\n",
    "\n",
    "\n",
    "# Initialize coeffficients for ridge regression and Lasso\n",
    "\n",
    "coefs_ridge = []\n",
    "coefs_lasso=[]\n",
    "for a in alphas:\n",
    "    ridge.set_params(alpha=a)\n",
    "    ridge.fit(X_train, y_train)\n",
    "    coefs_ridge.append(ridge.coef_)\n",
    "    \n",
    "    # Use the coefficient of determination R^2 as the performance of prediction.\n",
    "    train_errors_ridge.append(ridge.score(X_train, y_train))\n",
    "    test_errors_ridge.append(ridge.score(X_test, y_test))\n",
    "    \n",
    "    lasso.set_params(alpha=a)\n",
    "    lasso.fit(X_train, y_train)\n",
    "    coefs_lasso.append(lasso.coef_)\n",
    "    train_errors_lasso.append(lasso.score(X_train, y_train))\n",
    "    test_errors_lasso.append(lasso.score(X_test, y_test))\n",
    "    \n",
    "###############################################################################\n",
    "# Display results\n",
    "\n",
    "# First see how the 10 features we learned scale as we change the regularization parameter\n",
    "plt.subplot(1,2,1)\n",
    "plt.semilogx(alphas, np.abs(coefs_ridge))\n",
    "axes = plt.gca()\n",
    "#ax.set_xscale('log')\n",
    "#ax.set_xlim(ax.get_xlim()[::-1])  # reverse axis\n",
    "plt.xlabel(r'$\\lambda$',fontsize=18)\n",
    "plt.ylabel('$|w_i|$',fontsize=18)\n",
    "plt.title('Ridge')\n",
    "#plt.savefig(\"Ridge_sparsity_scale.pdf.pdf\")\n",
    "\n",
    "\n",
    "\n",
    "plt.subplot(1,2,2)\n",
    "plt.semilogx(alphas, np.abs(coefs_lasso))\n",
    "axes = plt.gca()\n",
    "#ax.set_xscale('log')\n",
    "#ax.set_xlim(ax.get_xlim()[::-1])  # reverse axis\n",
    "plt.xlabel(r'$\\lambda$',fontsize=18)\n",
    "#plt.ylabel('$|\\mathbf{w}|$',fontsize=18)\n",
    "plt.title('LASSO')\n",
    "#plt.savefig(\"LASSO_sparsity_scale.pdf\")\n",
    "plt.show()\n",
    "\n",
    "\n",
    "\n",
    "# Plot our performance on both the training and test data\n",
    "plt.semilogx(alphas, train_errors_ridge, 'b',label='Train (Ridge)')\n",
    "plt.semilogx(alphas, test_errors_ridge, '--b',label='Test (Ridge)')\n",
    "plt.semilogx(alphas, train_errors_lasso, 'g',label='Train (LASSO)')\n",
    "plt.semilogx(alphas, test_errors_lasso, '--g',label='Test (LASSO)')\n",
    "#plt.vlines(alpha_optim, plt.ylim()[0], np.max(test_errors), color='k',\n",
    "#           linewidth=3, label='Optimum on test')\n",
    "plt.legend(loc='upper right')\n",
    "plt.ylim([-0.01, 1.0])\n",
    "plt.xlabel(r'$\\lambda$',fontsize=18)\n",
    "plt.ylabel('Performance')\n",
    "#plt.savefig(\"Ridge_LASSO_sparsity_performance.pdf\")\n",
    "plt.show()\n",
    "\n",
    "\n",
    "\n"
   ]
  },
  {
   "cell_type": "markdown",
   "metadata": {},
   "source": [
    "### Exercise 4: ###  \n",
    "<ul>\n",
    "<li>What do the points $\\lambda=0$ and $\\lambda=10^5$ correspond to? Is it strange that the weights are not monotonic in $\\alpha$? Why do you think this might be?\n",
    "<li>Make a similar regularization plot for LASSO? \n",
    "<li> What is the qualitative difference between the LASSO path and Ridge Path? Does this agree with your earlier predictions? Can you make some qualitative argument to rationalize this difference?\n",
    "<li>How do your answers change when you vary the number of examples and training set size?\n",
    "</ul>"
   ]
  },
  {
   "cell_type": "markdown",
   "metadata": {},
   "source": [
    "## A brief note about convexity##\n",
    "\n",
    "In Sec. VI of the review, we briefly discussed convexity. Here's a quick refresher: Recall that a set $C\\subseteq\\mathbb{R}^n$ is called <i> convex </i> if any $x,y\\in C$ and $t\\in [0,1]$, \n",
    "$$\n",
    "tx+(1-t)x \\in C.\n",
    "$$\n",
    "In other words, every line segments joining $x,y$ lies entirely in $C$. \n",
    "\n",
    "A function $f:\\mathbb{R}^n\\rightarrow \\mathbb{R}$ is called <i> convex </i> if its domain dom$(f)$ is a convex set and for any $x,y\\in$dom$(f)$ and $t\\in [0,1]$, \n",
    "\n",
    "$$\n",
    "f(tx+(1-t)y)\\le tf(x)+(1-t)f(y).\n",
    "$$\n",
    "In other words, the function lies below the line segment joining $f(x)$ and $f(y)$. This function $f$ is called <b> strictly convex </b> if this inequality holds strictly for $x\\neq y$ and $t\\in(0,1)$. \n",
    "\n",
    "Why is convexity important?  <b> For convex functions, any local minimizer is a global minimizer</b>. Algorithmically, this means that in the minimization (optimization) procedure, as long as we're \"going down the hill\" and agree to stop when we can't go any further, then we've hit the global minimum. In addition to this, there's a menagerie of beautiful theory regarding convex duality and optimality, which gives us a way of understanding the solutions even before solving the problem itself. We refer interested readers to  <a href=\"http://web.stanford.edu/~boyd/cvxbook/\">Boyd and Vandenberghe book on Convex Optimization</a>.\n",
    "\n",
    "\n",
    "Coming back to our regularization examples, a simple inspection reveals that both LASSO and Ridge regression are convex in $w$. What's more, Ridge is actually a <i> strictly convex </i> problem (assuming $\\lambda>0$) due to presence of L2 penality. In fact, this is always true regardless of $X$ and so the ridge regression solution you worked out (presumably) in Exercise 2 is always well-defined.\n",
    "\n",
    "In contrast, LASSO is not always strictly convex and hence by convexity\n",
    "theory, it need not have a unique solution. The LASSO solution is unique under general conditions, for example, when $X$ has columns in <i> general position </i> (see <a href=\"https://arxiv.org/abs/1206.0313\"> Tibshirani 2013</a>). To mitigate this, one can define a modified problem called the <a href=\"https://web.stanford.edu/~hastie/Papers/B67.2%20(2005)%20301-320%20Zou%20&%20Hastie.pdf\">elastic net</a> such that the function we want to minimize is always strictly convex:\n",
    "\n",
    "$$\n",
    "\\underset{\\mathbf{w}\\in\\mathbb{R}^p}{\\operatorname{min}} ||\\mathbf{Xw}-\\mathbf{y}||_2^2 + \\lambda ||\\mathbf{w}||_1 + \\delta||\\mathbf{w}||_2^2,\n",
    "$$\n",
    "where $\\lambda,\\delta\\ge 0$ are regularization parameters. Now aside from uniqueness of the solution, the elastic net combines some of the desirable properties (e.g. prediction) of ridge regression with the sparsity properties of the LASSO. In the following exercise, you're going to explore a little bit about elastic net."
   ]
  },
  {
   "cell_type": "markdown",
   "metadata": {},
   "source": [
    "### Exercise 4: ###  \n",
    "<ul>\n",
    "<li> Play with the parameters $\\lambda$ and $\\delta$, when would you expect sparse solutions?\n",
    "\n",
    "<li> Plot the regularization path of elastic net. How does it depend on $\\lambda$ and $\\delta$?\n",
    "\n",
    "<li> Derive the analytic solution of this elastic net problem. Check your answer by looking at two limiting cases ($\\lambda\\rightarrow 0$ and $\\delta\\rightarrow 0$). Does this agree with what you found previously?\n",
    "\n",
    "</ul>"
   ]
  },
  {
   "cell_type": "markdown",
   "metadata": {},
   "source": [
    "### End-of-notebook questions ###  \n",
    "<ul>\n",
    "\n",
    "<li> Can you explain the difference between in-sample and out-of-sample performance? Is out-of-sample error usually larger than in-sample error? Does this depend on regularization? Recall in Exercise 1, we defined the in-sample risk as \n",
    "\n",
    "$$\n",
    "R_{in}(\\hat{\\textbf{w}}, \\textbf{w}_\\text{true})=\\frac{1}{n}\\mathbb{E}[(\\mathbf{X}\\hat{\\textbf{w}}-\\mathbf{X}{\\textbf{w}_\\text{true}})^2],\n",
    "$$ \n",
    "where $\\hat{\\textbf{w}}= (\\mathbf{X}^T\\mathbf{X})^{-1}\\mathbf{X}^T \\textbf{y}$ is the least square solution and $\\textbf{w}_\\text{true}$ is the true parameter vector used to generate all samples. Following the same notation and assumption, now imagine if we're given a new data point $\\textbf{x}_0$ independently drawn from the predictor distribution $\\mathcal{P}$. We can define the out-of-sample risk as \n",
    "$$\n",
    "R_{out} =\\mathbb{E}_{\\textbf{x}^{(0)}\\sim\\mathcal{P}}\\mathbb{E}_{(y_i,\\textbf{x}_i)}[(\\hat{\\textbf{w}}\\cdot \\textbf{x}_0 -\\textbf{w}_\\text{true}\\cdot \\textbf{x}_0)^2],\n",
    "$$\n",
    "with the expectation value taken not only over the training samples $(y_i,\\textbf{x}_i)$ but also over the predictor distribution $\\mathcal{P}$ that generates the unseen sample $\\textbf{x}^{(0)}$. One can actually show that $R_{out}\\ge R_{in}$ under mild assumptions. This makes sense intuitively since it's usually harder to make prediction on unseen samples than to fit the samples given. You can numerically verify this by assuming a predictor distribution, say, $\\mathcal{N}(0,\\Sigma)$.\n",
    "</ul>"
   ]
  },
  {
   "cell_type": "code",
   "execution_count": null,
   "metadata": {},
   "outputs": [],
   "source": []
  }
 ],
 "metadata": {
  "kernelspec": {
   "display_name": "Python 3 (ipykernel)",
   "language": "python",
   "name": "python3"
  },
  "language_info": {
   "codemirror_mode": {
    "name": "ipython",
    "version": 3
   },
   "file_extension": ".py",
   "mimetype": "text/x-python",
   "name": "python",
   "nbconvert_exporter": "python",
   "pygments_lexer": "ipython3",
   "version": "3.7.11"
  }
 },
 "nbformat": 4,
 "nbformat_minor": 1
}
